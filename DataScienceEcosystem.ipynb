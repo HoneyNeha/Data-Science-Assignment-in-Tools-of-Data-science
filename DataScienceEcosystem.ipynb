{
 "cells": [
  {
   "cell_type": "markdown",
   "id": "5590294e-5b03-43b7-82d4-4412804f0851",
   "metadata": {},
   "source": [
    "Data Science Tools and Ecosystem"
   ]
  },
  {
   "cell_type": "markdown",
   "id": "fabd2e91-d1ec-4cb0-bc42-27feaa8bc798",
   "metadata": {},
   "source": [
    "In this notebook, Data Science Tools and Ecosystem are summarized."
   ]
  },
  {
   "cell_type": "markdown",
   "id": "fec6a198-a0e4-48db-aa9d-59e154ae9260",
   "metadata": {},
   "source": [
    "#### OBJECTIVES:\n",
    "\n",
    "* List of the Popular languages\n",
    "* List of the commonly used Libraries\n",
    "* Git Hub and how it is helpful in todays Agile environment"
   ]
  },
  {
   "cell_type": "markdown",
   "id": "fe3b38d8-d8b7-4812-9f43-7bbbbf71b217",
   "metadata": {
    "tags": []
   },
   "source": [
    "## Some of the popular languages that Data Scientists use are:\n",
    "1. Python\n",
    "2. R\n",
    "3. SQL\n",
    "4. Scala"
   ]
  },
  {
   "cell_type": "markdown",
   "id": "b672f530-012a-4136-9014-289cb5175cac",
   "metadata": {},
   "source": [
    "## Some of the commonly used libraries used by Data Scientists include:\n",
    "1. numpy\n",
    "2. pandas\n",
    "3. matplotlib\n",
    "4. scikit\n"
   ]
  },
  {
   "cell_type": "markdown",
   "id": "a9e5e358-e5e5-444f-8999-fc9b2155616f",
   "metadata": {
    "tags": []
   },
   "source": [
    "|Data Science tools|\n",
    "|-----|\n",
    "|Jupyter |\n",
    "|R studio|\n",
    "|spyder|"
   ]
  },
  {
   "cell_type": "markdown",
   "id": "3a8c98fb-2d81-4629-a68a-91e154c438e0",
   "metadata": {},
   "source": [
    "## Below are a few examples of evaluating arithmetic expressions in Python"
   ]
  },
  {
   "cell_type": "code",
   "execution_count": 17,
   "id": "5e41398b-9175-47e5-a146-d4d4dd801074",
   "metadata": {
    "tags": []
   },
   "outputs": [
    {
     "data": {
      "text/plain": [
       "17"
      ]
     },
     "execution_count": 17,
     "metadata": {},
     "output_type": "execute_result"
    }
   ],
   "source": [
    "(3*4)+5\n",
    "#This a simple arithmetic expression to mutiply then add integers"
   ]
  },
  {
   "cell_type": "code",
   "execution_count": 18,
   "id": "54b50862-844d-4df5-8f71-0335f83dfa31",
   "metadata": {
    "tags": []
   },
   "outputs": [
    {
     "data": {
      "text/plain": [
       "3.3333333333333335"
      ]
     },
     "execution_count": 18,
     "metadata": {},
     "output_type": "execute_result"
    }
   ],
   "source": [
    "200/60\n",
    "# This will convert 200 minutes in hours"
   ]
  },
  {
   "cell_type": "markdown",
   "id": "484c3e1f-bf30-4a29-8fc6-a3bf22ab2d8e",
   "metadata": {},
   "source": [
    "##Author\n",
    "Neha\n"
   ]
  },
  {
   "cell_type": "code",
   "execution_count": null,
   "id": "3484bfcd-d5d9-4dad-bcad-5354a028bf82",
   "metadata": {},
   "outputs": [],
   "source": []
  }
 ],
 "metadata": {
  "kernelspec": {
   "display_name": "Python",
   "language": "python",
   "name": "conda-env-python-py"
  },
  "language_info": {
   "codemirror_mode": {
    "name": "ipython",
    "version": 3
   },
   "file_extension": ".py",
   "mimetype": "text/x-python",
   "name": "python",
   "nbconvert_exporter": "python",
   "pygments_lexer": "ipython3",
   "version": "3.7.12"
  }
 },
 "nbformat": 4,
 "nbformat_minor": 5
}
